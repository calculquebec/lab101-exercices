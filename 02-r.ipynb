{
 "cells": [
  {
   "cell_type": "markdown",
   "id": "7fe8d9d4-1efe-4156-8863-a386cd17a892",
   "metadata": {},
   "source": [
    "# R\n",
    "\n",
    "Documentation : https://www.r-project.org/\n",
    "\n",
    "R is a language and environment for statistical computing and graphics. It is a GNU project which is similar to the S language and environment which was developed at Bell Laboratories (formerly AT&T, now Lucent Technologies) by John Chambers and colleagues. R can be considered as a different implementation of S. There are some important differences, but much code written for S runs unaltered under R.\n",
    "\n",
    "R provides a wide variety of statistical (linear and nonlinear modelling, classical statistical tests, time-series analysis, classification, clustering, …) and graphical techniques, and is highly extensible. The S language is often the vehicle of choice for research in statistical methodology, and R provides an Open Source route to participation in that activity.\n",
    "\n",
    "One of R’s strengths is the ease with which well-designed publication-quality plots can be produced, including mathematical symbols and formulae where needed. Great care has been taken over the defaults for the minor design choices in graphics, but the user retains full control.\n",
    "\n",
    "R is available as Free Software under the terms of the Free Software Foundation’s GNU General Public License in source code form. It compiles and runs on a wide variety of UNIX platforms and similar systems (including FreeBSD and Linux), Windows and MacOS.\n",
    "\n",
    "## The R environment\n",
    "R is an integrated suite of software facilities for data manipulation, calculation and graphical display. It includes\n",
    "\n",
    "* an effective data handling and storage facility,\n",
    "* a suite of operators for calculations on arrays, in particular matrices,\n",
    "* a large, coherent, integrated collection of intermediate tools for data analysis,\n",
    "* graphical facilities for data analysis and display either on-screen or on hardcopy, and\n",
    "* a well-developed, simple and effective programming language which includes conditionals, loops, user-defined recursive functions and input and output facilities.\n",
    "\n",
    "The term “environment” is intended to characterize it as a fully planned and coherent system, rather than an incremental accretion of very specific and inflexible tools, as is frequently the case with other data analysis software.\n",
    "\n",
    "R, like S, is designed around a true computer language, and it allows users to add additional functionality by defining new functions. Much of the system is itself written in the R dialect of S, which makes it easy for users to follow the algorithmic choices made. For computationally-intensive tasks, C, C++ and Fortran code can be linked and called at run time. Advanced users can write C code to manipulate R objects directly.\n",
    "\n",
    "Many users think of R as a statistics system. We prefer to think of it as an environment within which statistical techniques are implemented. R can be extended (easily) via packages. There are about eight packages supplied with the R distribution and many more are available through the CRAN family of Internet sites covering a very wide range of modern statistics.\n",
    "\n",
    "R has its own LaTeX-like documentation format, which is used to supply comprehensive documentation, both on-line in a number of formats and in hardcopy.\n",
    "\n",
    "It is used in a various number of fields but to name a few:\n",
    "\n",
    "* Scientific Computing and Data Science\n",
    "\n",
    "# References\n",
    "- https://docs.alliancecan.ca/wiki/R\n",
    "- https://docs.alliancecan.ca/wiki/Running_jobs\n",
    "\n",
    "***\n",
    "# Code"
   ]
  },
  {
   "cell_type": "code",
   "execution_count": null,
   "id": "73789768-f679-4623-a885-397ae7b00a55",
   "metadata": {},
   "outputs": [],
   "source": [
    "2 * 6"
   ]
  },
  {
   "cell_type": "markdown",
   "id": "edceafc1-9362-4f51-8565-fa60592371ca",
   "metadata": {},
   "source": [
    "We can define code such as a Fibonacci function:"
   ]
  },
  {
   "cell_type": "code",
   "execution_count": null,
   "id": "4bf9efda-daba-4c9a-9a33-361546f834da",
   "metadata": {},
   "outputs": [],
   "source": [
    "fib = function(n) {\n",
    "    if (n == 0 || n == 1) return (n);\n",
    "    return (fib(n - 1) + fib(n - 2))  # Recursive case\n",
    "}"
   ]
  },
  {
   "cell_type": "code",
   "execution_count": null,
   "id": "f47e62dc-0865-48a0-a01a-40f98a3340cd",
   "metadata": {},
   "outputs": [],
   "source": [
    "fib(15)"
   ]
  },
  {
   "cell_type": "markdown",
   "id": "29916b5e-8b76-4a21-8e33-5b154fe8b828",
   "metadata": {},
   "source": [
    "# Visualization\n",
    "\n",
    "We can create graph and visualize simple data."
   ]
  },
  {
   "cell_type": "code",
   "execution_count": null,
   "id": "fde4bcd3-7b48-4e52-9433-b04914c29010",
   "metadata": {},
   "outputs": [],
   "source": [
    "# Define 2 vectors\n",
    "prices = c(1, 3, 6, 4, 9)\n",
    "days = c(2, 5, 4, 5, 12)\n",
    "\n",
    "# Graph prices using a y axis that ranges from 0 to 12\n",
    "plot(prices, type=\"o\", col=\"blue\", ylim=c(0,12))\n",
    "\n",
    "# Graph days with red dashed line and square points\n",
    "lines(days, type=\"o\", pch=22, lty=2, col=\"red\")\n",
    "\n",
    "# Create a title with a red, bold/italic font\n",
    "title(main=\"Prices\", col.main=\"red\", font.main=4)"
   ]
  }
 ],
 "metadata": {
  "kernelspec": {
   "display_name": "R 4.2",
   "language": "R",
   "name": "ir"
  },
  "language_info": {
   "codemirror_mode": "r",
   "file_extension": ".r",
   "mimetype": "text/x-r-source",
   "name": "R",
   "pygments_lexer": "r",
   "version": "4.2.1"
  }
 },
 "nbformat": 4,
 "nbformat_minor": 5
}
