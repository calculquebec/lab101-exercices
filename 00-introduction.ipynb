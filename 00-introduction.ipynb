{
 "cells": [
  {
   "cell_type": "markdown",
   "id": "4d95f82f",
   "metadata": {},
   "source": [
    "# Jupyter Notebook\n",
    "\n",
    "The notebook extends the console-based approach to interactive computing in a qualitatively new direction, providing a web-based application suitable for capturing the whole computation process: developing, documenting, and executing code, as well as communicating the results. The Jupyter notebook combines two components:\n",
    "\n",
    "* A web application: a browser-based tool for interactive authoring of documents which combine explanatory text, mathematics, computations and their rich media output.\n",
    "\n",
    "* Notebook documents: a representation of all content visible in the web application, including inputs and outputs of the computations, explanatory text, mathematics, images, and rich media representations of objects.\n",
    "\n",
    "## Main features of the web application\n",
    "* In-browser editing for code, with automatic syntax highlighting, indentation, and tab completion/introspection.\n",
    "\n",
    "* The ability to execute code from the browser, with the results of computations attached to the code which generated them.\n",
    "\n",
    "* Displaying the result of computation using rich media representations, such as HTML, LaTeX, PNG, SVG, etc. For example, publication-quality figures rendered by the [matplotlib](https://matplotlib.org/) library, can be included inline.\n",
    "\n",
    "* In-browser editing for rich text using the Markdown markup language, which can provide commentary for the code, is not limited to plain text.\n",
    "\n",
    "* The ability to easily include mathematical notation within markdown cells using LaTeX, and rendered natively by [MathJax](https://www.mathjax.org/).\n",
    "\n",
    "## Notebook documents\n",
    "Notebook documents contain the inputs and outputs of an interactive session as well as additional text that accompanies the code but is not meant for execution. In this way, notebook files can serve as a complete computational record of a session, interleaving executable code with explanatory text, mathematics, and rich representations of resulting objects. These documents are internally JSON files and are saved with the `.ipynb` extension. Since JSON is a plain text format, they can be version-controlled and shared with colleagues.\n",
    "\n",
    "Notebooks may be exported to a range of static formats, including HTML (for example, for blog posts), reStructuredText, LaTeX, PDF, and slide shows, via the nbconvert command.\n",
    "\n",
    "Furthermore, any `.ipynb` notebook document available from a public URL can be shared via the Jupyter Notebook Viewer (nbviewer). This service loads the notebook document from the URL and renders it as a static web page. The results may thus be shared with a colleague, or as a public blog post, without other users needing to install the Jupyter notebook themselves. In effect, nbviewer is simply nbconvert as a web service, so you can do your own static conversions with nbconvert, without relying on nbviewer.\n",
    "\n",
    "Source : https://jupyter-notebook.readthedocs.io/en/stable/notebook.html\n",
    "\n",
    "## How to Use Jupyter\n",
    "\n",
    "When a cell is in `edit` mode:\n",
    "\n",
    "  Shortcut  | Description\n",
    "----------- | -----------\n",
    "Shift+Enter | Run the cell, and go to the next\n",
    "Tab         | Indent code or auto-completion\n",
    "Esc         | Go to command mode\n",
    "\n",
    "When a cell is in `command` mode:\n",
    "\n",
    "  Shortcut   | Description\n",
    "------------ | -----------\n",
    "Shift+Enter  | Run the cell, and go to the next\n",
    "Double-click | Go to edit mode\n",
    "Enter        | Go to edit mode\n",
    "\n",
    "  Shortcut   | Description\n",
    "------------ | -----------\n",
    "A            | Insert a cell above\n",
    "B            | Insert a cell below\n",
    "C            | Copy the current cell\n",
    "V            | Paste the cell below\n",
    "D D          | Delete the current cell\n",
    "M            | Change to Markdown cell\n",
    "Y            | Change to Code cell"
   ]
  },
  {
   "cell_type": "markdown",
   "id": "6794190a",
   "metadata": {},
   "source": [
    "## Execution:\n",
    "The square brackets on the left are the [execution counts](https://jupyter-client.readthedocs.io/en/latest/messaging.html#execution-counter-prompt-number) associated with the cell. The first cell executed gets `[1]`, the second `[2]`, etc. Running a previously executed cell will modify its execution count.\n",
    "\n",
    "To reset all cells: from the top menu, select `Kernel -> Restart & Clear Output`\n",
    "\n",
    "# A word on running notebooks\n",
    "<div class=\"alert alert-warning\">\n",
    "  <strong>Jupyter Lab and notebooks are not meant for development nor running calculations.</strong>\n",
    "</div>\n",
    "\n",
    "One can test, debug or visualize interactively in JupyterLab, but it should be short. If you are waiting for the cell to run and it takes more than a few minutes, it should be ran in a job.\n",
    "\n",
    "Other tasks can be submitted to the scheduler and the notebook can be ran as script (`File > Save and Export as > Executable script`) or by running `jupyter nbconvert --to notebook <notebook>` from the command line, in order to get an executable script.\n",
    "\n",
    "# References\n",
    "- https://docs.alliancecan.ca/wiki/JupyterHub\n",
    "- https://docs.alliancecan.ca/wiki/JupyterHub#JupyterHub_on_clusters\n",
    "- https://docs.alliancecan.ca/wiki/Running_jobs"
   ]
  },
  {
   "cell_type": "code",
   "execution_count": null,
   "id": "dab0a48f-0998-442f-b3a8-f0a7fc02e40e",
   "metadata": {},
   "outputs": [],
   "source": []
  }
 ],
 "metadata": {
  "jupytext": {
   "formats": "ipynb,md",
   "notebook_metadata_filter": "all"
  },
  "kernelspec": {
   "display_name": "Python 3 (ipykernel)",
   "language": "python",
   "name": "python3"
  },
  "language_info": {
   "codemirror_mode": {
    "name": "ipython",
    "version": 3
   },
   "file_extension": ".py",
   "mimetype": "text/x-python",
   "name": "python",
   "nbconvert_exporter": "python",
   "pygments_lexer": "ipython3",
   "version": "3.11.6"
  }
 },
 "nbformat": 4,
 "nbformat_minor": 5
}
