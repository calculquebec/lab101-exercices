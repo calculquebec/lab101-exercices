{
 "cells": [
  {
   "cell_type": "markdown",
   "id": "5843381e-241e-4130-b13b-15c744dd9d97",
   "metadata": {},
   "source": [
    "# Julia\n",
    "Documentation : https://docs.julialang.org/en/v1/\n",
    "\n",
    "Scientific computing has traditionally required the highest performance, yet domain experts have largely moved to slower dynamic languages for daily work. We believe there are many good reasons to prefer dynamic languages for these applications, and we do not expect their use to diminish. Fortunately, modern language design and compiler techniques make it possible to mostly eliminate the performance trade-off and provide a single environment productive enough for prototyping and efficient enough for deploying performance-intensive applications. The Julia programming language fills this role: it is a flexible dynamic language, appropriate for scientific and numerical computing, with performance comparable to traditional statically-typed languages.\n",
    "\n",
    "Because Julia's compiler is different from the interpreters used for languages like Python or R, you may find that Julia's performance is unintuitive at first. If you find that something is slow, we highly recommend reading through the [Performance Tips](https://docs.julialang.org/en/v1/manual/performance-tips/#man-performance-tips) section before trying anything else. Once you understand how Julia works, it's easy to write code that's nearly as fast as C.\n",
    "\n",
    "Julia features optional typing, multiple dispatch, and good performance, achieved using type inference and [just-in-time (JIT) compilation](https://en.wikipedia.org/wiki/Just-in-time_compilation) (and [optional ahead-of-time compilation](https://github.com/JuliaLang/PackageCompiler.jl)), implemented using LLVM. It is multi-paradigm, combining features of imperative, functional, and object-oriented programming. Julia provides ease and expressiveness for high-level numerical computing, in the same way as languages such as R, MATLAB, and Python, but also supports general programming. To achieve this, Julia builds upon the lineage of mathematical programming languages, but also borrows much from popular dynamic languages, including Lisp, Perl, Python, Lua, and Ruby.\n",
    "\n",
    "The most significant departures of Julia from typical dynamic languages are:\n",
    "\n",
    "* The core language imposes very little; Julia Base and the standard library are written in Julia itself, including primitive operations like integer arithmetic\n",
    "* A rich language of types for constructing and describing objects, that can also optionally be used to make type declarations\n",
    "* The ability to define function behavior across many combinations of argument types via multiple dispatch\n",
    "* Automatic generation of efficient, specialized code for different argument types\n",
    "* Good performance, approaching that of statically-compiled languages like C\n",
    "\n",
    "Although one sometimes speaks of dynamic languages as being \"typeless\", they are definitely not: every object, whether primitive or user-defined, has a type. The lack of type declarations in most dynamic languages, however, means that one cannot instruct the compiler about the types of values, and often cannot explicitly talk about types at all. In static languages, on the other hand, while one can – and usually must – annotate types for the compiler, types exist only at compile time and cannot be manipulated or expressed at run time. In Julia, types are themselves run-time objects, and can also be used to convey information to the compiler.\n",
    "\n",
    "While the casual programmer need not explicitly use types or multiple dispatch, they are the core unifying features of Julia: functions are defined on different combinations of argument types, and applied by dispatching to the most specific matching definition. This model is a good fit for mathematical programming, where it is unnatural for the first argument to \"own\" an operation as in traditional object-oriented dispatch. Operators are just functions with special notation – to extend addition to new user-defined data types, you define new methods for the + function. Existing code then seamlessly applies to the new data types.\n",
    "\n",
    "Partly because of run-time type inference (augmented by optional type annotations), and partly because of a strong focus on performance from the inception of the project, Julia's computational efficiency exceeds that of other dynamic languages, and even rivals that of statically-compiled languages. For large scale numerical problems, speed always has been, continues to be, and probably always will be crucial: the amount of data being processed has easily kept pace with Moore's Law over the past decades.\n",
    "\n",
    "Julia aims to create an unprecedented combination of ease-of-use, power, and efficiency in a single language. In addition to the above, some advantages of Julia over comparable systems include:\n",
    "\n",
    "* Free and open source ([MIT licensed](https://github.com/JuliaLang/julia/blob/master/LICENSE.md))\n",
    "* User-defined types are as fast and compact as built-ins\n",
    "* No need to vectorize code for performance; devectorized code is fast\n",
    "* Designed for parallelism and distributed computation\n",
    "* Lightweight \"green\" threading ([coroutines](https://en.wikipedia.org/wiki/Coroutine))\n",
    "* Unobtrusive yet powerful type system\n",
    "* Elegant and extensible conversions and promotions for numeric and other types\n",
    "* Efficient support for [Unicode](https://en.wikipedia.org/wiki/Unicode), including but not limited to [UTF-8](https://en.wikipedia.org/wiki/UTF-8)\n",
    "* Call C functions directly (no wrappers or special APIs needed)\n",
    "* Powerful shell-like capabilities for managing other processes\n",
    "* Lisp-like macros and other metaprogramming facilities\n",
    "\n",
    "It is used in a various number of fields but to name a few:\n",
    "\n",
    "* Scientific Computing and Data Science\n",
    "* Machine Learning and Artificial Intelligence\n",
    "\n",
    "# References\n",
    "- https://docs.alliancecan.ca/wiki/Julia\n",
    "- https://docs.alliancecan.ca/wiki/Running_jobs\n",
    "\n",
    "***\n",
    "# Code"
   ]
  },
  {
   "cell_type": "code",
   "execution_count": null,
   "id": "3396b37f-6f60-47b9-a939-dcdf755cc4a7",
   "metadata": {},
   "outputs": [],
   "source": [
    "2 + 3"
   ]
  },
  {
   "cell_type": "markdown",
   "id": "b1615c14-eb1e-44b6-8cbd-0252e6ec977f",
   "metadata": {},
   "source": [
    "We can define code such as a Fibonacci function:"
   ]
  },
  {
   "cell_type": "code",
   "execution_count": null,
   "id": "89f3e118-cef9-406a-9c1b-658f9bc1ee9e",
   "metadata": {},
   "outputs": [],
   "source": [
    "function fib(n::Int)\n",
    "    n<0 && error(\"n must be non negative\")\n",
    "    n==0 && return 0\n",
    "    n==1 && return 1\n",
    "    return fib(n-1) + fib(n-2)\n",
    "end"
   ]
  },
  {
   "cell_type": "markdown",
   "id": "2e71aaa6-b23f-4462-b212-8e31e11250b6",
   "metadata": {},
   "source": [
    "And get its results:"
   ]
  },
  {
   "cell_type": "code",
   "execution_count": null,
   "id": "5c8921e7-fcfe-486a-973c-a674260a14f0",
   "metadata": {},
   "outputs": [],
   "source": [
    "fib(15)"
   ]
  }
 ],
 "metadata": {
  "kernelspec": {
   "display_name": "Julia 1.8.1",
   "language": "julia",
   "name": "julia-1.8"
  },
  "language_info": {
   "file_extension": ".jl",
   "mimetype": "application/julia",
   "name": "julia",
   "version": "1.8.1"
  }
 },
 "nbformat": 4,
 "nbformat_minor": 5
}
