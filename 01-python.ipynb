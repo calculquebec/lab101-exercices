{
 "cells": [
  {
   "cell_type": "markdown",
   "id": "255415e0-f145-43e4-9f07-05a04c7084b6",
   "metadata": {},
   "source": [
    "# Python\n",
    "* a high-level scripting language.\n",
    "\n",
    "* designed to be highly readable. It uses English keywords frequently whereas other languages use punctuation, and it has fewer syntactical constructions than other languages.\n",
    "\n",
    "* interpreted: Python is processed at runtime by the interpreter. You do not need to compile your program before executing it. Grouping of statements is done by indentation instead of beginning and ending brackets (as in C or C++).\n",
    "\n",
    "* interactive: You can actually sit at a Python prompt and interact with the interpreter directly to write your programs. This notebook is an example of it.\n",
    "\n",
    "By the way, the language is named after the BBC show “Monty Python’s Flying Circus” and has nothing to do with reptiles.\n",
    "\n",
    "It is used in a various number of fields but to name a few:\n",
    "\n",
    "* Scientific Computing and Data Science\n",
    "* Machine Learning and Artificial Intelligence\n",
    "* Web Development and Framework\n",
    "\n",
    "\n",
    "# References\n",
    "- https://docs.alliancecan.ca/wiki/Python\n",
    "- https://docs.alliancecan.ca/wiki/Running_jobs\n",
    "\n",
    "***\n",
    "# Code"
   ]
  },
  {
   "cell_type": "code",
   "execution_count": null,
   "id": "2d68af78-e4e0-4ec0-b948-6d908bfafd24",
   "metadata": {},
   "outputs": [],
   "source": [
    "2 + 3"
   ]
  },
  {
   "cell_type": "markdown",
   "id": "d2327d20-7eca-4999-9a76-9f224f70e48a",
   "metadata": {
    "tags": []
   },
   "source": [
    "We can define code such as a Fibonacci function:"
   ]
  },
  {
   "cell_type": "code",
   "execution_count": null,
   "id": "e3659672-acfc-45ba-85ea-9843c4ffae4c",
   "metadata": {},
   "outputs": [],
   "source": [
    "def fibonacci_of(n):\n",
    "    if n in {0, 1}:  # Base case\n",
    "        return n\n",
    "    return fibonacci_of(n - 1) + fibonacci_of(n - 2)  # Recursive case"
   ]
  },
  {
   "cell_type": "markdown",
   "id": "78d78573-c6cc-4e27-8e98-93fb3e959a4e",
   "metadata": {},
   "source": [
    "And get its results:"
   ]
  },
  {
   "cell_type": "code",
   "execution_count": null,
   "id": "5fab72cc-3f8b-4af2-83ba-8eac4a01abfc",
   "metadata": {},
   "outputs": [],
   "source": [
    "fibonacci_of(15)"
   ]
  },
  {
   "cell_type": "markdown",
   "id": "2bc396d5-8d2c-4fbe-8979-592baf6d5670",
   "metadata": {},
   "source": [
    "# Visualization"
   ]
  },
  {
   "cell_type": "markdown",
   "id": "a91ea112-22dd-4628-9b40-5be573cec7e7",
   "metadata": {},
   "source": [
    "Matplotlib documentation: https://matplotlib.org/stable/\n",
    "\n",
    "In order to visualize data, we first need to import the library:"
   ]
  },
  {
   "cell_type": "code",
   "execution_count": null,
   "id": "c4418d8e-85a2-453f-a707-f4fd4bb312a3",
   "metadata": {},
   "outputs": [],
   "source": [
    "import matplotlib.pyplot as plt\n",
    "import numpy as np\n",
    "\n",
    "import matplotlib as mpl"
   ]
  },
  {
   "cell_type": "markdown",
   "id": "98cbd388-6ae0-4a68-9d9b-cf2238fbb379",
   "metadata": {},
   "source": [
    "Example taken from : https://matplotlib.org/stable/users/explain/quick_start.html#a-simple-example"
   ]
  },
  {
   "cell_type": "code",
   "execution_count": null,
   "id": "f5c01653-c400-4e11-87fd-38234dcd9a92",
   "metadata": {},
   "outputs": [],
   "source": [
    "x = np.linspace(0, 2, 100)  # Sample data.\n",
    "\n",
    "# Note that even in the OO-style, we use `.pyplot.figure` to create the Figure.\n",
    "fig, ax = plt.subplots(figsize=(5, 2.7), layout='constrained')\n",
    "\n",
    "ax.plot(x, x, label='linear')  # Plot some data on the axes.\n",
    "ax.plot(x, x**2, label='quadratic')  # Plot more data on the axes...\n",
    "ax.plot(x, x**3, label='cubic')  # ... and some more.\n",
    "\n",
    "ax.set_xlabel('x label')  # Add an x-label to the axes.\n",
    "ax.set_ylabel('y label')  # Add a y-label to the axes.\n",
    "ax.set_title(\"Simple Plot\")  # Add a title to the axes.\n",
    "\n",
    "ax.legend()  # Add a legend."
   ]
  }
 ],
 "metadata": {
  "kernelspec": {
   "display_name": "Python 3 (ipykernel)",
   "language": "python",
   "name": "python3"
  },
  "language_info": {
   "codemirror_mode": {
    "name": "ipython",
    "version": 3
   },
   "file_extension": ".py",
   "mimetype": "text/x-python",
   "name": "python",
   "nbconvert_exporter": "python",
   "pygments_lexer": "ipython3",
   "version": "3.11.6"
  }
 },
 "nbformat": 4,
 "nbformat_minor": 5
}
